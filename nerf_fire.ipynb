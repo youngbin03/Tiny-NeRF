{
  "cells": [
    {
      "cell_type": "markdown",
      "metadata": {
        "id": "view-in-github",
        "colab_type": "text"
      },
      "source": [
        "<a href=\"https://colab.research.google.com/github/youngbin03/Tiny-NeRF/blob/main/nerf_fire.ipynb\" target=\"_parent\"><img src=\"https://colab.research.google.com/assets/colab-badge.svg\" alt=\"Open In Colab\"/></a>"
      ]
    },
    {
      "cell_type": "markdown",
      "metadata": {
        "id": "MVL5k-A-3IM-"
      },
      "source": [
        "# NeRF-WandB-COLAB\n",
        "\n",
        "### [NeRF 공식 저장소](https://github.com/bmild/nerf)를 수정하여 [wandb 연동이 편리하도록 만든 저장소](https://github.com/ProtossDragoon/nerf-wandb.git)의 소스코드를 이용해 커스텀 데이터셋에 NeRF 모델 학습\n",
        "\n",
        "Plank-ing Hyundong 3D Reconstruction Project\n",
        "Created 2023.01.12 <br>"
      ]
    },
    {
      "cell_type": "markdown",
      "metadata": {
        "id": "x1eP2p5xiHZC"
      },
      "source": [
        "## 환경"
      ]
    },
    {
      "cell_type": "markdown",
      "metadata": {
        "id": "aqzSoc2sc0Xw"
      },
      "source": [
        "### GPU 확인"
      ]
    },
    {
      "cell_type": "code",
      "execution_count": null,
      "metadata": {
        "id": "IKY7DknIczR1"
      },
      "outputs": [],
      "source": [
        "gpu_info = !nvidia-smi\n",
        "gpu_info = '\\n'.join(gpu_info)\n",
        "if gpu_info.find('failed') >= 0:\n",
        "    print('Not connected to a GPU')\n",
        "else:\n",
        "    print(gpu_info)"
      ]
    },
    {
      "cell_type": "markdown",
      "metadata": {
        "id": "_rCeqkOXiIxP"
      },
      "source": [
        "### TF 런타임 변경 (python 다운그레이드 -> 3.6)"
      ]
    },
    {
      "cell_type": "code",
      "source": [
        "!add-apt-repository ppa:deadsnakes/ppa\n",
        "!apt-get update\n",
        "!apt-get install python3.6\n",
        "!apt-get install python3.6-dev\n",
        "\n",
        "!wget https://bootstrap.pypa.io/get-pip.py && python3.6 get-pip.py\n",
        "\n",
        "import sys\n",
        "\n",
        "sys.path[2] = '/usr/lib/python36.zip'\n",
        "sys.path[3] = '/usr/lib/python3.6'\n",
        "sys.path[4] = '/usr/lib/python3.6/lib-dynload'\n",
        "sys.path[5] = '/usr/local/lib/python3.6/dist-packages'\n",
        "sys.path[7] ='/usr/local/lib/python3.6/dist-packages/IPython/extensions'"
      ],
      "metadata": {
        "id": "RAAOjhevgsWe"
      },
      "execution_count": null,
      "outputs": []
    },
    {
      "cell_type": "code",
      "execution_count": null,
      "metadata": {
        "id": "v5ICatu2VHRh"
      },
      "outputs": [],
      "source": [
        "try:\n",
        "    %tensorflow_version 1.x\n",
        "except ValueError:\n",
        "    # 만약 %tensorflow_version 1.x magic 명령어가 작동하지 않는 경우\n",
        "    !pip uninstall --yes tensorflow\n",
        "    !pip install tensorflow==1.15\n",
        "    import tensorflow\n",
        "    print(tensorflow.__version__)"
      ]
    },
    {
      "cell_type": "markdown",
      "metadata": {
        "id": "UfniLbvYiGB-"
      },
      "source": [
        "### 의존 패키지 설치"
      ]
    },
    {
      "cell_type": "code",
      "execution_count": null,
      "metadata": {
        "id": "rR4cG_kBNzXK"
      },
      "outputs": [],
      "source": [
        "!apt-get update\n",
        "!sudo apt -qq install imagemagick\n",
        "!pip install ConfigArgParse -qqq\n",
        "!pip install imageio-ffmpeg -qqq"
      ]
    },
    {
      "cell_type": "markdown",
      "metadata": {
        "id": "c4GZliRBiMRz"
      },
      "source": [
        "### NeRF 소스코드 다운로드"
      ]
    },
    {
      "cell_type": "code",
      "execution_count": null,
      "metadata": {
        "id": "UCOpGC4PUeG-"
      },
      "outputs": [],
      "source": [
        "!git clone https://github.com/ProtossDragoon/nerf-wandb.git"
      ]
    },
    {
      "cell_type": "code",
      "execution_count": null,
      "metadata": {
        "id": "zCNErlnlU5Kp"
      },
      "outputs": [],
      "source": [
        "%cd nerf-wandb\n",
        "#!git checkout dev # 개발 중\n",
        "!ls -al"
      ]
    },
    {
      "cell_type": "markdown",
      "metadata": {
        "id": "iXI9GS5UqMo4"
      },
      "source": [
        "### Weight and Bias 설치\n",
        "\n",
        "- 실험 관리 도구로 wandb 를 사용합니다."
      ]
    },
    {
      "cell_type": "code",
      "execution_count": null,
      "metadata": {
        "id": "fi9pb9smHwt0"
      },
      "outputs": [],
      "source": [
        "!pip install wandb -qqq"
      ]
    },
    {
      "cell_type": "code",
      "execution_count": null,
      "metadata": {
        "id": "XTDqG14CMEod"
      },
      "outputs": [],
      "source": [
        "# Log in to your W&B account\n",
        "import wandb\n",
        "wandb.login()"
      ]
    },
    {
      "cell_type": "markdown",
      "metadata": {
        "id": "rZ4Avx7jhSB1"
      },
      "source": [
        "## 커스텀 데이터로 실행\n",
        "\n",
        "- LLFF 를 통해 얻은 pose 가 필요합니다."
      ]
    },
    {
      "cell_type": "markdown",
      "metadata": {
        "id": "KgvNCcbtilPF"
      },
      "source": [
        "### 구글 드라이브 연결"
      ]
    },
    {
      "cell_type": "code",
      "execution_count": null,
      "metadata": {
        "id": "YE0JwAeFbm_n"
      },
      "outputs": [],
      "source": [
        "from google.colab import drive\n",
        "drive.mount('/content/drive/', force_remount=True)"
      ]
    },
    {
      "cell_type": "markdown",
      "metadata": {
        "id": "dveNzsG2fqMp"
      },
      "source": [
        "### 파라미터 설정"
      ]
    },
    {
      "cell_type": "code",
      "execution_count": null,
      "metadata": {
        "id": "liKXJaPw0eES"
      },
      "outputs": [],
      "source": [
        "from datetime import datetime\n",
        "now = datetime.now().strftime('%y%m%d_%H%M%S')\n",
        "\n",
        "dataset_name = 'hyundong360_50' #@param ['hyundong360_50', 'hyundong360_100', 'hyundong360_200', 'hyundong360_400', 'noparking360_100', 'noparking360_200', 'noparking360_400', 'noparking720_100', 'noparking720_200', 'noparking720_400', 'hyundong360_100_background', 'hyundong360_100_cleanup', 'hyundong360_50_cleanup', 'hyundong360_25_cleanup']\n",
        "downsample_factor = 4 #@param {type:\"slider\", min:1, max:64, step:1}\n",
        "netdepth = 6 #@param {type:\"slider\", min:4, max:16, step:2}\n",
        "netwidth = 96 #@param {type:\"slider\", min:64, max:256, step:4}\n",
        "experiment_name = f'{dataset_name}_{downsample_factor}_downsampled_{now}'\n",
        "max_iter = 30000 #@param\n",
        "learning_rate = 0.001 #@param\n",
        "video_saving_cnt = 3 #@param {type:\"slider\", min:1, max:10, step:1}\n",
        "n_samples = 128 #@param {type:\"slider\", min:32, max:256, step:32}\n",
        "\n",
        "# fine 모델에서 사용되는 샘플 개수는 coarse 모델의 sampling 개수의 2배로 설정한다.\n",
        "# 공식 논문에서 제안하는 대로, 64이면 128.\n",
        "n_importance = n_samples * 2\n",
        "\n",
        "# Reproduce 를 위해 고정 random_seed 를 사용\n",
        "random_seed = 128 #@param\n",
        "\n",
        "# tradeoff: memory <-> speed (training 에는 속도와 성능 모두에 영향을 미치지 않음. 학습 도중 동영상을 만들 때 OOM 이 난다면 충분히 낮출 것)\n",
        "rendering_speed = 2048 #@param {type:\"slider\", min:1024, max:16384, step:1024}\n",
        "\n",
        "# tradeoff: memory <-> result\n",
        "n_points_per_ray = 65536 #@param {type:\"slider\", min:2048, max:262144, step:1024}\n",
        "\n",
        "_dummy_dir = '/content/drive/MyDrive/fire/data/logs/{experiment_name}'\n",
        "_tensorboard_logdir = '/content/drive/MyDrive/fire/data/logs/summaries/{experiment_name}'\n",
        "print(f'experiment: {experiment_name}')"
      ]
    },
    {
      "cell_type": "markdown",
      "metadata": {
        "id": "9vkmFuLRx-b_"
      },
      "source": [
        "Mesh 코드를 실행하기 위한 config.txt 생성"
      ]
    },
    {
      "cell_type": "code",
      "execution_count": null,
      "metadata": {
        "id": "xcCbIKHdx-b_"
      },
      "outputs": [],
      "source": [
        "# Make config.txt file.\n",
        "f = open(\"/content/drive/MyDrive/fire/data/logs/config.txt\", 'w')\n",
        "def make_config(a, b):\n",
        "\n",
        "  if b is None:\n",
        "    f.write(a + '\\n')\n",
        "  else:\n",
        "    data = a + ' = ' + b + '\\n'\n",
        "    f.write(data)\n",
        "\n",
        "\n",
        "make_config(\"maxiter\", str(max_iter))\n",
        "make_config(\"datadir\", '/content/drive/MyDrive/fire/data')\n",
        "make_config(\"basedir\", '/content/drive/MyDrive/fire/data/logs')\n",
        "make_config(\"dataset_type\", 'llff')\n",
        "make_config('factor', str(downsample_factor))\n",
        "make_config('netdepth', str(netdepth))\n",
        "make_config('netwidth', str(netwidth))\n",
        "make_config('netdepth_fine', str(netdepth))\n",
        "make_config('netwidth_fine', str(netwidth))\n",
        "make_config('chunk', str(rendering_speed))\n",
        "make_config('netchunk', str(n_points_per_ray))\n",
        "make_config('lrate', str(learning_rate))\n",
        "make_config('i_video', str(max_iter // video_saving_cnt))\n",
        "make_config('expname', experiment_name)\n",
        "make_config('N_samples', str(n_samples))\n",
        "make_config('N_importance', str(n_importance))\n",
        "make_config('random_seed', str(random_seed))\n",
        "make_config('raw_noise_std', '1.0')\n",
        "make_config('use_viewdirs', None)\n",
        "make_config('no_ndc', None)\n",
        "make_config('spherify', None)\n",
        "make_config('lindisp', None)\n",
        "\n",
        "f.close()"
      ]
    },
    {
      "cell_type": "markdown",
      "metadata": {
        "id": "B92V4lDPhU4B"
      },
      "source": [
        "### 학습 시작\n",
        "\n",
        "- 360도에 걸쳐 촬영한 데이터의 경우, `--no_ndc`, `--spherify`, `--lindisp` 를 추가하세요."
      ]
    },
    {
      "cell_type": "code",
      "execution_count": null,
      "metadata": {
        "id": "72ae68SS_nWI"
      },
      "outputs": [],
      "source": [
        "!python run_nerf.py \\\n",
        "    --wandbproject {'fire-sinyoungbin0128'} \\\n",
        "    --wandbentity {'sinyoungbin0128'} \\\n",
        "    --maxiter {max_iter} \\\n",
        "    --datadir /content/drive/MyDrive/fire/data \\\n",
        "    --basedir /content/drive/MyDrive/fire/data/logs \\\n",
        "    --dataset_type llff \\\n",
        "    --factor {downsample_factor} \\\n",
        "    --netdepth {netdepth} \\\n",
        "    --netwidth {netwidth} \\\n",
        "    --netdepth_fine {netdepth} \\\n",
        "    --netwidth_fine {netwidth} \\\n",
        "    --chunk {rendering_speed} \\\n",
        "    --netchunk {n_points_per_ray} \\\n",
        "    --lrate {learning_rate} \\\n",
        "    --i_video {max_iter // video_saving_cnt} \\\n",
        "    --expname {experiment_name} \\\n",
        "    --N_samples {n_samples} \\\n",
        "    --N_importance {n_importance} \\\n",
        "    --random_seed {random_seed} \\\n",
        "    --raw_noise_std 1.0 \\\n",
        "    --use_viewdirs \\\n",
        "    --no_ndc \\\n",
        "    --spherify \\\n",
        "    --lindisp"
      ]
    },
    {
      "cell_type": "code",
      "source": [],
      "metadata": {
        "id": "B0SYq35DbwTg"
      },
      "execution_count": null,
      "outputs": []
    }
  ],
  "metadata": {
    "accelerator": "GPU",
    "colab": {
      "private_outputs": true,
      "provenance": [],
      "gpuType": "T4",
      "include_colab_link": true
    },
    "kernelspec": {
      "display_name": "Python 3",
      "name": "python3"
    },
    "language_info": {
      "name": "python",
      "version": "3.9.1"
    },
    "vscode": {
      "interpreter": {
        "hash": "aee8b7b246df8f9039afb4144a1f6fd8d2ca17a180786b69acc140d282b71a49"
      }
    }
  },
  "nbformat": 4,
  "nbformat_minor": 0
}