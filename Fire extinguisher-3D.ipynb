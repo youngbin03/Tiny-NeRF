{
  "cells": [
    {
      "cell_type": "markdown",
      "metadata": {
        "id": "view-in-github",
        "colab_type": "text"
      },
      "source": [
        "<a href=\"https://colab.research.google.com/github/youngbin03/Tiny-NeRF/blob/main/Fire%20extinguisher-3D.ipynb\" target=\"_parent\"><img src=\"https://colab.research.google.com/assets/colab-badge.svg\" alt=\"Open In Colab\"/></a>"
      ]
    },
    {
      "cell_type": "markdown",
      "metadata": {
        "id": "MVL5k-A-3IM-"
      },
      "source": [
        "# NeRF-WandB-COLAB\n",
        "\n",
        "### [NeRF 공식 저장소](https://github.com/bmild/nerf)를 수정하여 [wandb 연동이 편리하도록 만든 저장소](https://github.com/ProtossDragoon/nerf-wandb.git)의 소스코드를 이용해 커스텀 데이터셋에 NeRF 모델 학습\n",
        "\n",
        "Plank-ing Hyundong 3D Reconstruction Project\n",
        "Created 2022.07.12 <br>\n",
        "\n",
        "**NoteBook Author** <br>\n",
        "[Janghoo Lee](https://www.linkedin.com/in/janghoo-lee-25212a1a0) <br>\n",
        "🎓 : [ProtossDragoon](https://github.com/ProtossDragoon) <br>\n",
        "📧 : dlwkdgn3@gmail.com <br>\n",
        "\n",
        "🤔 If you have any questions, please raise an issue in our [github repo](https://github.com/ProtossDragoon/PlankHyundong)."
      ]
    },
    {
      "cell_type": "markdown",
      "metadata": {
        "id": "x1eP2p5xiHZC"
      },
      "source": [
        "## 환경"
      ]
    },
    {
      "cell_type": "markdown",
      "metadata": {
        "id": "aqzSoc2sc0Xw"
      },
      "source": [
        "### GPU 확인"
      ]
    },
    {
      "cell_type": "code",
      "execution_count": null,
      "metadata": {
        "id": "IKY7DknIczR1",
        "colab": {
          "base_uri": "https://localhost:8080/"
        },
        "outputId": "86c2b730-8908-43bd-9e13-c4201c9fef00"
      },
      "outputs": [
        {
          "output_type": "stream",
          "name": "stdout",
          "text": [
            "Mon Mar 11 00:07:00 2024       \n",
            "+---------------------------------------------------------------------------------------+\n",
            "| NVIDIA-SMI 535.104.05             Driver Version: 535.104.05   CUDA Version: 12.2     |\n",
            "|-----------------------------------------+----------------------+----------------------+\n",
            "| GPU  Name                 Persistence-M | Bus-Id        Disp.A | Volatile Uncorr. ECC |\n",
            "| Fan  Temp   Perf          Pwr:Usage/Cap |         Memory-Usage | GPU-Util  Compute M. |\n",
            "|                                         |                      |               MIG M. |\n",
            "|=========================================+======================+======================|\n",
            "|   0  Tesla T4                       Off | 00000000:00:04.0 Off |                    0 |\n",
            "| N/A   40C    P8              10W /  70W |      0MiB / 15360MiB |      0%      Default |\n",
            "|                                         |                      |                  N/A |\n",
            "+-----------------------------------------+----------------------+----------------------+\n",
            "                                                                                         \n",
            "+---------------------------------------------------------------------------------------+\n",
            "| Processes:                                                                            |\n",
            "|  GPU   GI   CI        PID   Type   Process name                            GPU Memory |\n",
            "|        ID   ID                                                             Usage      |\n",
            "|=======================================================================================|\n",
            "|  No running processes found                                                           |\n",
            "+---------------------------------------------------------------------------------------+\n"
          ]
        }
      ],
      "source": [
        "gpu_info = !nvidia-smi\n",
        "gpu_info = '\\n'.join(gpu_info)\n",
        "if gpu_info.find('failed') >= 0:\n",
        "    print('Not connected to a GPU')\n",
        "else:\n",
        "    print(gpu_info)"
      ]
    },
    {
      "cell_type": "code",
      "source": [
        "!pip install tensorflow"
      ],
      "metadata": {
        "colab": {
          "base_uri": "https://localhost:8080/"
        },
        "id": "cDfHIdPW-5wW",
        "outputId": "7c1c5e71-24f4-40c3-a295-73990dd5e2ef"
      },
      "execution_count": null,
      "outputs": [
        {
          "output_type": "stream",
          "name": "stdout",
          "text": [
            "Collecting tensorflow\n",
            "  Downloading tensorflow-2.15.0.post1-cp310-cp310-manylinux_2_17_x86_64.manylinux2014_x86_64.whl (475.2 MB)\n",
            "\u001b[2K     \u001b[90m━━━━━━━━━━━━━━━━━━━━━━━━━━━━━━━━━━━━━━━━\u001b[0m \u001b[32m475.2/475.2 MB\u001b[0m \u001b[31m3.1 MB/s\u001b[0m eta \u001b[36m0:00:00\u001b[0m\n",
            "\u001b[?25hRequirement already satisfied: absl-py>=1.0.0 in /usr/local/lib/python3.10/dist-packages (from tensorflow) (1.4.0)\n",
            "Requirement already satisfied: astunparse>=1.6.0 in /usr/local/lib/python3.10/dist-packages (from tensorflow) (1.6.3)\n",
            "Requirement already satisfied: flatbuffers>=23.5.26 in /usr/local/lib/python3.10/dist-packages (from tensorflow) (23.5.26)\n",
            "Requirement already satisfied: gast!=0.5.0,!=0.5.1,!=0.5.2,>=0.2.1 in /usr/local/lib/python3.10/dist-packages (from tensorflow) (0.5.4)\n",
            "Requirement already satisfied: google-pasta>=0.1.1 in /usr/local/lib/python3.10/dist-packages (from tensorflow) (0.2.0)\n",
            "Requirement already satisfied: h5py>=2.9.0 in /usr/local/lib/python3.10/dist-packages (from tensorflow) (3.9.0)\n",
            "Requirement already satisfied: libclang>=13.0.0 in /usr/local/lib/python3.10/dist-packages (from tensorflow) (16.0.6)\n",
            "Requirement already satisfied: ml-dtypes~=0.2.0 in /usr/local/lib/python3.10/dist-packages (from tensorflow) (0.2.0)\n",
            "Requirement already satisfied: numpy<2.0.0,>=1.23.5 in /usr/local/lib/python3.10/dist-packages (from tensorflow) (1.25.2)\n",
            "Requirement already satisfied: opt-einsum>=2.3.2 in /usr/local/lib/python3.10/dist-packages (from tensorflow) (3.3.0)\n",
            "Requirement already satisfied: packaging in /usr/local/lib/python3.10/dist-packages (from tensorflow) (23.2)\n",
            "Requirement already satisfied: protobuf!=4.21.0,!=4.21.1,!=4.21.2,!=4.21.3,!=4.21.4,!=4.21.5,<5.0.0dev,>=3.20.3 in /usr/local/lib/python3.10/dist-packages (from tensorflow) (3.20.3)\n",
            "Requirement already satisfied: setuptools in /usr/local/lib/python3.10/dist-packages (from tensorflow) (67.7.2)\n",
            "Requirement already satisfied: six>=1.12.0 in /usr/local/lib/python3.10/dist-packages (from tensorflow) (1.16.0)\n",
            "Requirement already satisfied: termcolor>=1.1.0 in /usr/local/lib/python3.10/dist-packages (from tensorflow) (2.4.0)\n",
            "Requirement already satisfied: typing-extensions>=3.6.6 in /usr/local/lib/python3.10/dist-packages (from tensorflow) (4.10.0)\n",
            "Requirement already satisfied: wrapt<1.15,>=1.11.0 in /usr/local/lib/python3.10/dist-packages (from tensorflow) (1.14.1)\n",
            "Requirement already satisfied: tensorflow-io-gcs-filesystem>=0.23.1 in /usr/local/lib/python3.10/dist-packages (from tensorflow) (0.36.0)\n",
            "Requirement already satisfied: grpcio<2.0,>=1.24.3 in /usr/local/lib/python3.10/dist-packages (from tensorflow) (1.62.0)\n",
            "Requirement already satisfied: tensorboard<2.16,>=2.15 in /usr/local/lib/python3.10/dist-packages (from tensorflow) (2.15.2)\n",
            "Requirement already satisfied: tensorflow-estimator<2.16,>=2.15.0 in /usr/local/lib/python3.10/dist-packages (from tensorflow) (2.15.0)\n",
            "Requirement already satisfied: keras<2.16,>=2.15.0 in /usr/local/lib/python3.10/dist-packages (from tensorflow) (2.15.0)\n",
            "Requirement already satisfied: wheel<1.0,>=0.23.0 in /usr/local/lib/python3.10/dist-packages (from astunparse>=1.6.0->tensorflow) (0.42.0)\n",
            "Requirement already satisfied: google-auth<3,>=1.6.3 in /usr/local/lib/python3.10/dist-packages (from tensorboard<2.16,>=2.15->tensorflow) (2.27.0)\n",
            "Requirement already satisfied: google-auth-oauthlib<2,>=0.5 in /usr/local/lib/python3.10/dist-packages (from tensorboard<2.16,>=2.15->tensorflow) (1.2.0)\n",
            "Requirement already satisfied: markdown>=2.6.8 in /usr/local/lib/python3.10/dist-packages (from tensorboard<2.16,>=2.15->tensorflow) (3.5.2)\n",
            "Requirement already satisfied: requests<3,>=2.21.0 in /usr/local/lib/python3.10/dist-packages (from tensorboard<2.16,>=2.15->tensorflow) (2.31.0)\n",
            "Requirement already satisfied: tensorboard-data-server<0.8.0,>=0.7.0 in /usr/local/lib/python3.10/dist-packages (from tensorboard<2.16,>=2.15->tensorflow) (0.7.2)\n",
            "Requirement already satisfied: werkzeug>=1.0.1 in /usr/local/lib/python3.10/dist-packages (from tensorboard<2.16,>=2.15->tensorflow) (3.0.1)\n",
            "Requirement already satisfied: cachetools<6.0,>=2.0.0 in /usr/local/lib/python3.10/dist-packages (from google-auth<3,>=1.6.3->tensorboard<2.16,>=2.15->tensorflow) (5.3.3)\n",
            "Requirement already satisfied: pyasn1-modules>=0.2.1 in /usr/local/lib/python3.10/dist-packages (from google-auth<3,>=1.6.3->tensorboard<2.16,>=2.15->tensorflow) (0.3.0)\n",
            "Requirement already satisfied: rsa<5,>=3.1.4 in /usr/local/lib/python3.10/dist-packages (from google-auth<3,>=1.6.3->tensorboard<2.16,>=2.15->tensorflow) (4.9)\n",
            "Requirement already satisfied: requests-oauthlib>=0.7.0 in /usr/local/lib/python3.10/dist-packages (from google-auth-oauthlib<2,>=0.5->tensorboard<2.16,>=2.15->tensorflow) (1.3.1)\n",
            "Requirement already satisfied: charset-normalizer<4,>=2 in /usr/local/lib/python3.10/dist-packages (from requests<3,>=2.21.0->tensorboard<2.16,>=2.15->tensorflow) (3.3.2)\n",
            "Requirement already satisfied: idna<4,>=2.5 in /usr/local/lib/python3.10/dist-packages (from requests<3,>=2.21.0->tensorboard<2.16,>=2.15->tensorflow) (3.6)\n",
            "Requirement already satisfied: urllib3<3,>=1.21.1 in /usr/local/lib/python3.10/dist-packages (from requests<3,>=2.21.0->tensorboard<2.16,>=2.15->tensorflow) (2.0.7)\n",
            "Requirement already satisfied: certifi>=2017.4.17 in /usr/local/lib/python3.10/dist-packages (from requests<3,>=2.21.0->tensorboard<2.16,>=2.15->tensorflow) (2024.2.2)\n",
            "Requirement already satisfied: MarkupSafe>=2.1.1 in /usr/local/lib/python3.10/dist-packages (from werkzeug>=1.0.1->tensorboard<2.16,>=2.15->tensorflow) (2.1.5)\n",
            "Requirement already satisfied: pyasn1<0.6.0,>=0.4.6 in /usr/local/lib/python3.10/dist-packages (from pyasn1-modules>=0.2.1->google-auth<3,>=1.6.3->tensorboard<2.16,>=2.15->tensorflow) (0.5.1)\n",
            "Requirement already satisfied: oauthlib>=3.0.0 in /usr/local/lib/python3.10/dist-packages (from requests-oauthlib>=0.7.0->google-auth-oauthlib<2,>=0.5->tensorboard<2.16,>=2.15->tensorflow) (3.2.2)\n",
            "Installing collected packages: tensorflow\n",
            "Successfully installed tensorflow-2.15.0.post1\n"
          ]
        }
      ]
    },
    {
      "cell_type": "markdown",
      "metadata": {
        "id": "_rCeqkOXiIxP"
      },
      "source": [
        "### TF 런타임 변경"
      ]
    },
    {
      "cell_type": "code",
      "execution_count": null,
      "metadata": {
        "id": "v5ICatu2VHRh",
        "colab": {
          "base_uri": "https://localhost:8080/"
        },
        "outputId": "2da03bcf-7688-4625-88da-0b9aaffda11e"
      },
      "outputs": [
        {
          "output_type": "stream",
          "name": "stdout",
          "text": [
            "Colab only includes TensorFlow 2.x; %tensorflow_version has no effect.\n"
          ]
        }
      ],
      "source": [
        "try:\n",
        "    %tensorflow_version 2.x\n",
        "except ValueError:\n",
        "    # 만약 %tensorflow_version 1.x magic 명령어가 작동하지 않는 경우\n",
        "    !pip uninstall --yes tensorflow\n",
        "    !pip install tensorflow==1.15\n",
        "    import tensorflow\n",
        "    print(tensorflow.__version__)"
      ]
    },
    {
      "cell_type": "markdown",
      "metadata": {
        "id": "UfniLbvYiGB-"
      },
      "source": [
        "### 의존 패키지 설치"
      ]
    },
    {
      "cell_type": "code",
      "execution_count": null,
      "metadata": {
        "id": "rR4cG_kBNzXK",
        "colab": {
          "base_uri": "https://localhost:8080/"
        },
        "outputId": "fbf42ce8-6398-4979-baa9-9a392545e4f9"
      },
      "outputs": [
        {
          "output_type": "stream",
          "name": "stdout",
          "text": [
            "Hit:1 https://cloud.r-project.org/bin/linux/ubuntu jammy-cran40/ InRelease\n",
            "Hit:2 https://developer.download.nvidia.com/compute/cuda/repos/ubuntu2204/x86_64  InRelease\n",
            "Hit:3 https://ppa.launchpadcontent.net/c2d4u.team/c2d4u4.0+/ubuntu jammy InRelease\n",
            "Hit:4 http://security.ubuntu.com/ubuntu jammy-security InRelease\n",
            "Hit:5 http://archive.ubuntu.com/ubuntu jammy InRelease\n",
            "Hit:6 https://ppa.launchpadcontent.net/deadsnakes/ppa/ubuntu jammy InRelease\n",
            "Hit:7 https://ppa.launchpadcontent.net/graphics-drivers/ppa/ubuntu jammy InRelease\n",
            "Hit:8 https://ppa.launchpadcontent.net/ubuntugis/ppa/ubuntu jammy InRelease\n",
            "Hit:9 http://archive.ubuntu.com/ubuntu jammy-updates InRelease\n",
            "Hit:10 http://archive.ubuntu.com/ubuntu jammy-backports InRelease\n",
            "Reading package lists... Done\n",
            "imagemagick is already the newest version (8:6.9.11.60+dfsg-1.3ubuntu0.22.04.3).\n",
            "0 upgraded, 0 newly installed, 0 to remove and 40 not upgraded.\n",
            "\u001b[33mWARNING: Ignoring invalid distribution -ensorflow (/usr/local/lib/python3.10/dist-packages)\u001b[0m\u001b[33m\n",
            "\u001b[0m\u001b[33mWARNING: Ignoring invalid distribution -ensorflow (/usr/local/lib/python3.10/dist-packages)\u001b[0m\u001b[33m\n",
            "\u001b[0m\u001b[33mWARNING: Ignoring invalid distribution -ensorflow (/usr/local/lib/python3.10/dist-packages)\u001b[0m\u001b[33m\n",
            "\u001b[0m\u001b[33mWARNING: Ignoring invalid distribution -ensorflow (/usr/local/lib/python3.10/dist-packages)\u001b[0m\u001b[33m\n",
            "\u001b[0m"
          ]
        }
      ],
      "source": [
        "!apt-get update\n",
        "!sudo apt -qq install imagemagick\n",
        "!pip install ConfigArgParse -qqq\n",
        "!pip install imageio-ffmpeg -qqq"
      ]
    },
    {
      "cell_type": "markdown",
      "metadata": {
        "id": "c4GZliRBiMRz"
      },
      "source": [
        "### NeRF 소스코드 다운로드"
      ]
    },
    {
      "cell_type": "code",
      "execution_count": null,
      "metadata": {
        "id": "UCOpGC4PUeG-",
        "colab": {
          "base_uri": "https://localhost:8080/"
        },
        "outputId": "a1d64251-d680-4d8e-822c-7cecdc52cd92"
      },
      "outputs": [
        {
          "output_type": "stream",
          "name": "stdout",
          "text": [
            "fatal: destination path 'nerf-wandb' already exists and is not an empty directory.\n"
          ]
        }
      ],
      "source": [
        "!git clone https://github.com/ProtossDragoon/nerf-wandb.git"
      ]
    },
    {
      "cell_type": "code",
      "execution_count": null,
      "metadata": {
        "id": "zCNErlnlU5Kp",
        "colab": {
          "base_uri": "https://localhost:8080/"
        },
        "outputId": "d177096e-9cbb-462e-fbff-aa08b93334f1"
      },
      "outputs": [
        {
          "output_type": "stream",
          "name": "stdout",
          "text": [
            "/content/nerf-wandb\n",
            "total 4360\n",
            "drwxr-xr-x 8 root root    4096 Mar 11 00:01 .\n",
            "drwxr-xr-x 1 root root    4096 Mar 10 23:57 ..\n",
            "drwxr-xr-x 3 root root    4096 Mar 11 00:01 artifacts\n",
            "-rw-r--r-- 1 root root     233 Mar 10 23:56 config_deepvoxels_greek.txt\n",
            "-rw-r--r-- 1 root root     209 Mar 10 23:56 config_fern.txt\n",
            "-rw-r--r-- 1 root root     221 Mar 10 23:56 config_lego.txt\n",
            "-rw-r--r-- 1 root root     233 Mar 10 23:56 download_example_data.sh\n",
            "-rw-r--r-- 1 root root     270 Mar 10 23:56 download_example_weights.sh\n",
            "-rw-r--r-- 1 root root     279 Mar 10 23:56 environment.yml\n",
            "-rw-r--r-- 1 root root 1253115 Mar 10 23:56 extract_mesh.ipynb\n",
            "drwxr-xr-x 8 root root    4096 Mar 10 23:56 .git\n",
            "-rw-r--r-- 1 root root     109 Mar 10 23:56 .gitignore\n",
            "drwxr-xr-x 2 root root    4096 Mar 10 23:56 imgs\n",
            "-rw-r--r-- 1 root root    1062 Mar 10 23:56 LICENSE\n",
            "-rw-r--r-- 1 root root    2396 Mar 10 23:56 load_blender.py\n",
            "-rw-r--r-- 1 root root    3890 Mar 10 23:56 load_deepvoxels.py\n",
            "-rw-r--r-- 1 root root   10034 Mar 10 23:56 load_llff.py\n",
            "drwxr-xr-x 2 root root    4096 Mar 10 23:56 paper_configs\n",
            "drwxr-xr-x 2 root root    4096 Mar 11 00:01 __pycache__\n",
            "-rw-r--r-- 1 root root    6460 Mar 10 23:56 README.md\n",
            "-rw-r--r-- 1 root root  170437 Mar 10 23:56 render_demo.ipynb\n",
            "-rw-r--r-- 1 root root    6746 Mar 10 23:56 run_nerf_helpers.py\n",
            "-rw-r--r-- 1 root root   42808 Mar 10 23:56 run_nerf.py\n",
            "-rw-r--r-- 1 root root 2888726 Mar 10 23:56 tiny_nerf.ipynb\n",
            "drwxr-xr-x 5 root root    4096 Mar 11 00:01 wandb\n"
          ]
        }
      ],
      "source": [
        "%cd nerf-wandb\n",
        "#!git checkout dev # 개발 중\n",
        "!ls -al"
      ]
    },
    {
      "cell_type": "markdown",
      "metadata": {
        "id": "iXI9GS5UqMo4"
      },
      "source": [
        "### Weight and Bias 설치\n",
        "\n",
        "- 실험 관리 도구로 wandb 를 사용합니다.\n",
        "- 개인 wandb 프로젝트가 아닌, [plank-hyundong](https://wandb.ai/plank-hyundong) 팀의 [wandb 프로젝트 plank-hyundong](https://wandb.ai/plank-hyundong/plank-hyundong) 저장소를 사용하려면 관리자(dlwkdgn1@naver.com)에게 접근 키를 문의하세요.\n",
        "- 개인 저장소를 사용하려면 `wandb.login()` 셀을 실행할 때 개인 계정으로 로그인하고, `python run_nerf.py` 셀을 실행할 때 파라미터 중 `--wandbproject` 와 `--wandbentity` 값을 변경하면 됩니다."
      ]
    },
    {
      "cell_type": "code",
      "execution_count": null,
      "metadata": {
        "id": "fi9pb9smHwt0",
        "colab": {
          "base_uri": "https://localhost:8080/"
        },
        "outputId": "70f4a653-d61f-42ed-a86f-c6ca9fed1c0b"
      },
      "outputs": [
        {
          "output_type": "stream",
          "name": "stdout",
          "text": [
            "\u001b[33mWARNING: Ignoring invalid distribution -ensorflow (/usr/local/lib/python3.10/dist-packages)\u001b[0m\u001b[33m\n",
            "\u001b[0m\u001b[33mWARNING: Ignoring invalid distribution -ensorflow (/usr/local/lib/python3.10/dist-packages)\u001b[0m\u001b[33m\n",
            "\u001b[0m"
          ]
        }
      ],
      "source": [
        "!pip install wandb -qqq"
      ]
    },
    {
      "cell_type": "code",
      "source": [
        "!pip install wandb"
      ],
      "metadata": {
        "id": "odGJ1A080qAY",
        "colab": {
          "base_uri": "https://localhost:8080/"
        },
        "outputId": "77c4830a-6fca-404d-f6c6-d9703ed6d8b4"
      },
      "execution_count": null,
      "outputs": [
        {
          "output_type": "stream",
          "name": "stdout",
          "text": [
            "\u001b[33mWARNING: Ignoring invalid distribution -ensorflow (/usr/local/lib/python3.10/dist-packages)\u001b[0m\u001b[33m\n",
            "\u001b[0mRequirement already satisfied: wandb in /usr/local/lib/python3.10/dist-packages (0.16.4)\n",
            "Requirement already satisfied: Click!=8.0.0,>=7.1 in /usr/local/lib/python3.10/dist-packages (from wandb) (8.1.7)\n",
            "Requirement already satisfied: GitPython!=3.1.29,>=1.0.0 in /usr/local/lib/python3.10/dist-packages (from wandb) (3.1.42)\n",
            "Requirement already satisfied: requests<3,>=2.0.0 in /usr/local/lib/python3.10/dist-packages (from wandb) (2.31.0)\n",
            "Requirement already satisfied: psutil>=5.0.0 in /usr/local/lib/python3.10/dist-packages (from wandb) (5.9.5)\n",
            "Requirement already satisfied: sentry-sdk>=1.0.0 in /usr/local/lib/python3.10/dist-packages (from wandb) (1.41.0)\n",
            "Requirement already satisfied: docker-pycreds>=0.4.0 in /usr/local/lib/python3.10/dist-packages (from wandb) (0.4.0)\n",
            "Requirement already satisfied: PyYAML in /usr/local/lib/python3.10/dist-packages (from wandb) (6.0.1)\n",
            "Requirement already satisfied: setproctitle in /usr/local/lib/python3.10/dist-packages (from wandb) (1.3.3)\n",
            "Requirement already satisfied: setuptools in /usr/local/lib/python3.10/dist-packages (from wandb) (67.7.2)\n",
            "Requirement already satisfied: appdirs>=1.4.3 in /usr/local/lib/python3.10/dist-packages (from wandb) (1.4.4)\n",
            "Requirement already satisfied: protobuf!=4.21.0,<5,>=3.19.0 in /usr/local/lib/python3.10/dist-packages (from wandb) (3.20.3)\n",
            "Requirement already satisfied: six>=1.4.0 in /usr/local/lib/python3.10/dist-packages (from docker-pycreds>=0.4.0->wandb) (1.16.0)\n",
            "Requirement already satisfied: gitdb<5,>=4.0.1 in /usr/local/lib/python3.10/dist-packages (from GitPython!=3.1.29,>=1.0.0->wandb) (4.0.11)\n",
            "Requirement already satisfied: charset-normalizer<4,>=2 in /usr/local/lib/python3.10/dist-packages (from requests<3,>=2.0.0->wandb) (3.3.2)\n",
            "Requirement already satisfied: idna<4,>=2.5 in /usr/local/lib/python3.10/dist-packages (from requests<3,>=2.0.0->wandb) (3.6)\n",
            "Requirement already satisfied: urllib3<3,>=1.21.1 in /usr/local/lib/python3.10/dist-packages (from requests<3,>=2.0.0->wandb) (2.0.7)\n",
            "Requirement already satisfied: certifi>=2017.4.17 in /usr/local/lib/python3.10/dist-packages (from requests<3,>=2.0.0->wandb) (2024.2.2)\n",
            "Requirement already satisfied: smmap<6,>=3.0.1 in /usr/local/lib/python3.10/dist-packages (from gitdb<5,>=4.0.1->GitPython!=3.1.29,>=1.0.0->wandb) (5.0.1)\n",
            "\u001b[33mWARNING: Ignoring invalid distribution -ensorflow (/usr/local/lib/python3.10/dist-packages)\u001b[0m\u001b[33m\n",
            "\u001b[0m"
          ]
        }
      ]
    },
    {
      "cell_type": "code",
      "execution_count": null,
      "metadata": {
        "id": "XTDqG14CMEod",
        "colab": {
          "base_uri": "https://localhost:8080/"
        },
        "outputId": "dce65a6b-2c8c-450a-8937-4ba0c8acb81f"
      },
      "outputs": [
        {
          "output_type": "stream",
          "name": "stderr",
          "text": [
            "\u001b[34m\u001b[1mwandb\u001b[0m: Currently logged in as: \u001b[33myoungbi2021\u001b[0m (\u001b[33myoungbi\u001b[0m). Use \u001b[1m`wandb login --relogin`\u001b[0m to force relogin\n"
          ]
        },
        {
          "output_type": "execute_result",
          "data": {
            "text/plain": [
              "True"
            ]
          },
          "metadata": {},
          "execution_count": 11
        }
      ],
      "source": [
        "# Log in to your W&B account\n",
        "import wandb\n",
        "wandb.login()"
      ]
    },
    {
      "cell_type": "code",
      "source": [
        "wandb.init()"
      ],
      "metadata": {
        "colab": {
          "base_uri": "https://localhost:8080/",
          "height": 227,
          "referenced_widgets": [
            "570362b4ac314e2ea6f7e0776514d049",
            "98ac4c1db100473bb008daaa5deddc0d",
            "4b1a0ecd773f4fa8949e427394ea320b",
            "3e64173a2b494f21b4747de7b357c12f",
            "51a83061ad4c4e8f9fda472c9c3155eb",
            "e7e8b8d8a9354b1785a7583baa221b5a",
            "25212d61a83945a5a65643c12204f47a",
            "4adbf02c3a1443569d7a1a18e67735e0"
          ]
        },
        "id": "k9nzbfDNPfio",
        "outputId": "2a960e71-302f-49a1-88aa-5f101a8a5f1d"
      },
      "execution_count": null,
      "outputs": [
        {
          "output_type": "stream",
          "name": "stderr",
          "text": [
            "\u001b[34m\u001b[1mwandb\u001b[0m: Currently logged in as: \u001b[33myoungbi2021\u001b[0m (\u001b[33myoungbi\u001b[0m). Use \u001b[1m`wandb login --relogin`\u001b[0m to force relogin\n"
          ]
        },
        {
          "output_type": "display_data",
          "data": {
            "text/plain": [
              "VBox(children=(Label(value='Waiting for wandb.init()...\\r'), FloatProgress(value=0.011112942811111123, max=1.0…"
            ],
            "application/vnd.jupyter.widget-view+json": {
              "version_major": 2,
              "version_minor": 0,
              "model_id": "570362b4ac314e2ea6f7e0776514d049"
            }
          },
          "metadata": {}
        },
        {
          "output_type": "display_data",
          "data": {
            "text/plain": [
              "<IPython.core.display.HTML object>"
            ],
            "text/html": [
              "Tracking run with wandb version 0.16.4"
            ]
          },
          "metadata": {}
        },
        {
          "output_type": "display_data",
          "data": {
            "text/plain": [
              "<IPython.core.display.HTML object>"
            ],
            "text/html": [
              "Run data is saved locally in <code>/content/nerf-wandb/wandb/run-20240310_235704-sbdv27pu</code>"
            ]
          },
          "metadata": {}
        },
        {
          "output_type": "display_data",
          "data": {
            "text/plain": [
              "<IPython.core.display.HTML object>"
            ],
            "text/html": [
              "Syncing run <strong><a href='https://wandb.ai/youngbi/nerf-wandb/runs/sbdv27pu' target=\"_blank\">autumn-capybara-4</a></strong> to <a href='https://wandb.ai/youngbi/nerf-wandb' target=\"_blank\">Weights & Biases</a> (<a href='https://wandb.me/run' target=\"_blank\">docs</a>)<br/>"
            ]
          },
          "metadata": {}
        },
        {
          "output_type": "display_data",
          "data": {
            "text/plain": [
              "<IPython.core.display.HTML object>"
            ],
            "text/html": [
              " View project at <a href='https://wandb.ai/youngbi/nerf-wandb' target=\"_blank\">https://wandb.ai/youngbi/nerf-wandb</a>"
            ]
          },
          "metadata": {}
        },
        {
          "output_type": "display_data",
          "data": {
            "text/plain": [
              "<IPython.core.display.HTML object>"
            ],
            "text/html": [
              " View run at <a href='https://wandb.ai/youngbi/nerf-wandb/runs/sbdv27pu' target=\"_blank\">https://wandb.ai/youngbi/nerf-wandb/runs/sbdv27pu</a>"
            ]
          },
          "metadata": {}
        },
        {
          "output_type": "execute_result",
          "data": {
            "text/html": [
              "<button onClick=\"this.nextSibling.style.display='block';this.style.display='none';\">Display W&B run</button><iframe src='https://wandb.ai/youngbi/nerf-wandb/runs/sbdv27pu?jupyter=true' style='border:none;width:100%;height:420px;display:none;'></iframe>"
            ],
            "text/plain": [
              "<wandb.sdk.wandb_run.Run at 0x7827981e4af0>"
            ]
          },
          "metadata": {},
          "execution_count": 10
        }
      ]
    },
    {
      "cell_type": "markdown",
      "metadata": {
        "id": "rZ4Avx7jhSB1"
      },
      "source": [
        "## 커스텀 데이터로 실행\n",
        "\n",
        "- LLFF 를 통해 얻은 pose 가 필요합니다.\n",
        "- LLFF 을 실행하려면 [Plankhyundong 저장소](https://github.com/ProtossDragoon/PlankHyundong)의 [colmap_colab 노트북](https://github.com/ProtossDragoon/PlankHyundong/blob/main/notebooks/colmap_colab.ipynb)을 참고하세요."
      ]
    },
    {
      "cell_type": "markdown",
      "metadata": {
        "id": "KgvNCcbtilPF"
      },
      "source": [
        "### 구글 드라이브 연결"
      ]
    },
    {
      "cell_type": "code",
      "execution_count": null,
      "metadata": {
        "id": "YE0JwAeFbm_n",
        "colab": {
          "base_uri": "https://localhost:8080/"
        },
        "outputId": "dab98ed8-27a0-4ee8-c801-a50d7515ea22"
      },
      "outputs": [
        {
          "output_type": "stream",
          "name": "stdout",
          "text": [
            "Mounted at /content/drive/\n"
          ]
        }
      ],
      "source": [
        "from google.colab import drive\n",
        "drive.mount('/content/drive/', force_remount=True)"
      ]
    },
    {
      "cell_type": "markdown",
      "metadata": {
        "id": "dveNzsG2fqMp"
      },
      "source": [
        "### 파라미터 설정"
      ]
    },
    {
      "cell_type": "code",
      "execution_count": null,
      "metadata": {
        "id": "liKXJaPw0eES",
        "colab": {
          "base_uri": "https://localhost:8080/"
        },
        "outputId": "99cb412d-f54c-4685-e6ee-0aa88e64d21d"
      },
      "outputs": [
        {
          "output_type": "stream",
          "name": "stdout",
          "text": [
            "experiment: hyundong360_50_4_downsampled_240311_000757\n"
          ]
        }
      ],
      "source": [
        "from datetime import datetime\n",
        "now = datetime.now().strftime('%y%m%d_%H%M%S')\n",
        "\n",
        "dataset_name = 'hyundong360_50' #@param ['hyundong360_50', 'hyundong360_100', 'hyundong360_200', 'hyundong360_400', 'noparking360_100', 'noparking360_200', 'noparking360_400', 'noparking720_100', 'noparking720_200', 'noparking720_400', 'hyundong360_100_background', 'hyundong360_100_cleanup', 'hyundong360_50_cleanup', 'hyundong360_25_cleanup']\n",
        "downsample_factor = 4 #@param {type:\"slider\", min:1, max:64, step:1}\n",
        "netdepth = 6 #@param {type:\"slider\", min:4, max:16, step:2}\n",
        "netwidth = 96 #@param {type:\"slider\", min:64, max:256, step:4}\n",
        "experiment_name = f'{dataset_name}_{downsample_factor}_downsampled_{now}'\n",
        "max_iter = 30000 #@param\n",
        "learning_rate = 0.001 #@param\n",
        "video_saving_cnt = 3 #@param {type:\"slider\", min:1, max:10, step:1}\n",
        "n_samples = 128 #@param {type:\"slider\", min:32, max:256, step:32}\n",
        "\n",
        "# fine 모델에서 사용되는 샘플 개수는 coarse 모델의 sampling 개수의 2배로 설정한다.\n",
        "# 공식 논문에서 제안하는 대로, 64이면 128.\n",
        "n_importance = n_samples * 2\n",
        "\n",
        "# Reproduce 를 위해 고정 random_seed 를 사용\n",
        "random_seed = 777 #@param\n",
        "\n",
        "# tradeoff: memory <-> speed (training 에는 속도와 성능 모두에 영향을 미치지 않음. 학습 도중 동영상을 만들 때 OOM 이 난다면 충분히 낮출 것)\n",
        "rendering_speed = 2048 #@param {type:\"slider\", min:1024, max:16384, step:1024}\n",
        "\n",
        "# tradeoff: memory <-> result\n",
        "n_points_per_ray = 65536 #@param {type:\"slider\", min:2048, max:262144, step:1024}\n",
        "\n",
        "_dummy_dir = '/content/drive/MyDrive/fire/data/logs/{experiment_name}'\n",
        "_tensorboard_logdir = '/content/drive/MyDrive/fire/data/logs/summaries/{experiment_name}'\n",
        "print(f'experiment: {experiment_name}')"
      ]
    },
    {
      "cell_type": "markdown",
      "metadata": {
        "id": "MJF60f310ik8"
      },
      "source": [
        "Mesh 코드를 실행하기 위한 config.txt 생성"
      ]
    },
    {
      "cell_type": "code",
      "execution_count": null,
      "metadata": {
        "id": "bl2t1oIq0ik9"
      },
      "outputs": [],
      "source": [
        "# Make config.txt file.\n",
        "f = open(\"/content/drive/MyDrive/fire/data/logs/config.txt\", 'w')\n",
        "def make_config(a, b):\n",
        "\n",
        "  if b is None:\n",
        "    f.write(a + '\\n')\n",
        "  else:\n",
        "    data = a + ' = ' + b + '\\n'\n",
        "    f.write(data)\n",
        "\n",
        "\n",
        "make_config(\"maxiter\", str(max_iter))\n",
        "make_config(\"datadir\", '/content/drive/MyDrive/fire/data')\n",
        "make_config(\"basedir\", '/content/drive/MyDrive/fire/data/logs')\n",
        "make_config(\"dataset_type\", 'llff')\n",
        "make_config('factor', str(downsample_factor))\n",
        "make_config('netdepth', str(netdepth))\n",
        "make_config('netwidth', str(netwidth))\n",
        "make_config('netdepth_fine', str(netdepth))\n",
        "make_config('netwidth_fine', str(netwidth))\n",
        "make_config('chunk', str(rendering_speed))\n",
        "make_config('netchunk', str(n_points_per_ray))\n",
        "make_config('lrate', str(learning_rate))\n",
        "make_config('i_video', str(max_iter // video_saving_cnt))\n",
        "make_config('expname', experiment_name)\n",
        "make_config('N_samples', str(n_samples))\n",
        "make_config('N_importance', str(n_importance))\n",
        "make_config('random_seed', str(random_seed))\n",
        "make_config('raw_noise_std', '1.0')\n",
        "make_config('use_viewdirs', None)\n",
        "make_config('no_ndc', None)\n",
        "make_config('spherify', None)\n",
        "make_config('lindisp', None)\n",
        "\n",
        "f.close()"
      ]
    },
    {
      "cell_type": "markdown",
      "metadata": {
        "id": "B92V4lDPhU4B"
      },
      "source": [
        "### 학습 시작\n",
        "\n",
        "- 360도에 걸쳐 촬영한 데이터의 경우, `--no_ndc`, `--spherify`, `--lindisp` 를 추가하세요."
      ]
    },
    {
      "cell_type": "code",
      "execution_count": null,
      "metadata": {
        "id": "72ae68SS_nWI",
        "colab": {
          "base_uri": "https://localhost:8080/"
        },
        "outputId": "6c04f74e-e1b3-405f-e8ef-52fa383e2c41"
      },
      "outputs": [
        {
          "output_type": "stream",
          "name": "stdout",
          "text": [
            "2024-03-11 00:43:50.332746: E external/local_xla/xla/stream_executor/cuda/cuda_dnn.cc:9261] Unable to register cuDNN factory: Attempting to register factory for plugin cuDNN when one has already been registered\n",
            "2024-03-11 00:43:50.332793: E external/local_xla/xla/stream_executor/cuda/cuda_fft.cc:607] Unable to register cuFFT factory: Attempting to register factory for plugin cuFFT when one has already been registered\n",
            "2024-03-11 00:43:50.334190: E external/local_xla/xla/stream_executor/cuda/cuda_blas.cc:1515] Unable to register cuBLAS factory: Attempting to register factory for plugin cuBLAS when one has already been registered\n",
            "2024-03-11 00:43:50.341579: I tensorflow/core/platform/cpu_feature_guard.cc:182] This TensorFlow binary is optimized to use available CPU instructions in performance-critical operations.\n",
            "To enable the following instructions: AVX2 AVX512F FMA, in other operations, rebuild TensorFlow with the appropriate compiler flags.\n",
            "2024-03-11 00:43:51.332630: W tensorflow/compiler/tf2tensorrt/utils/py_utils.cc:38] TF-TRT Warning: Could not find TensorRT\n",
            "Fixing random seed 777\n",
            "\u001b[34m\u001b[1mwandb\u001b[0m: Currently logged in as: \u001b[33myoungbi2021\u001b[0m. Use \u001b[1m`wandb login --relogin`\u001b[0m to force relogin\n",
            "\u001b[34m\u001b[1mwandb\u001b[0m: Tracking run with wandb version 0.16.4\n",
            "\u001b[34m\u001b[1mwandb\u001b[0m: Run data is saved locally in \u001b[35m\u001b[1m/content/nerf-wandb/wandb/run-20240311_004353-7u1u4bt8\u001b[0m\n",
            "\u001b[34m\u001b[1mwandb\u001b[0m: Run \u001b[1m`wandb offline`\u001b[0m to turn off syncing.\n",
            "\u001b[34m\u001b[1mwandb\u001b[0m: Syncing run \u001b[33mhyundong360_50_4_downsampled_240311_000757\u001b[0m\n",
            "\u001b[34m\u001b[1mwandb\u001b[0m: ⭐️ View project at \u001b[34m\u001b[4mhttps://wandb.ai/youngbi2021/fire-youngbi\u001b[0m\n",
            "\u001b[34m\u001b[1mwandb\u001b[0m: 🚀 View run at \u001b[34m\u001b[4mhttps://wandb.ai/youngbi2021/fire-youngbi/runs/7u1u4bt8\u001b[0m\n",
            "\u001b[34m\u001b[1mwandb\u001b[0m: Adding directory to artifact (/content/drive/MyDrive/fire/data)... Done. 1.5s\n",
            "\u001b[34m\u001b[1mwandb\u001b[0m:                                                                                \n",
            "\u001b[34m\u001b[1mwandb\u001b[0m: W&B sync reduced upload amount by 99.9%             \n",
            "\u001b[34m\u001b[1mwandb\u001b[0m: 🚀 View run \u001b[33mhyundong360_50_4_downsampled_240311_000757\u001b[0m at: \u001b[34m\u001b[4mhttps://wandb.ai/youngbi2021/fire-youngbi/runs/7u1u4bt8\u001b[0m\n",
            "\u001b[34m\u001b[1mwandb\u001b[0m: ️⚡ View job at \u001b[34m\u001b[4mhttps://wandb.ai/youngbi2021/fire-youngbi/jobs/QXJ0aWZhY3RDb2xsZWN0aW9uOjE0NzUxNDE0MQ==/version_details/v3\u001b[0m\n",
            "\u001b[34m\u001b[1mwandb\u001b[0m: Synced 5 W&B file(s), 0 media file(s), 116 artifact file(s) and 0 other file(s)\n",
            "\u001b[34m\u001b[1mwandb\u001b[0m: Find logs at: \u001b[35m\u001b[1m./wandb/run-20240311_004353-7u1u4bt8/logs\u001b[0m\n",
            "\u001b[34m\u001b[1mwandb\u001b[0m: Tracking run with wandb version 0.16.4\n",
            "\u001b[34m\u001b[1mwandb\u001b[0m: Run data is saved locally in \u001b[35m\u001b[1m/content/nerf-wandb/wandb/run-20240311_004410-uj0rowsi\u001b[0m\n",
            "\u001b[34m\u001b[1mwandb\u001b[0m: Run \u001b[1m`wandb offline`\u001b[0m to turn off syncing.\n",
            "\u001b[34m\u001b[1mwandb\u001b[0m: Syncing run \u001b[33mhyundong360_50_4_downsampled_240311_000757\u001b[0m\n",
            "\u001b[34m\u001b[1mwandb\u001b[0m: ⭐️ View project at \u001b[34m\u001b[4mhttps://wandb.ai/youngbi2021/fire-youngbi\u001b[0m\n",
            "\u001b[34m\u001b[1mwandb\u001b[0m: 🚀 View run at \u001b[34m\u001b[4mhttps://wandb.ai/youngbi2021/fire-youngbi/runs/uj0rowsi\u001b[0m\n",
            "\u001b[34m\u001b[1mwandb\u001b[0m: Downloading large artifact data-dataset:v8, 242.40MB. 116 files... \n",
            "\u001b[34m\u001b[1mwandb\u001b[0m:   116 of 116 files downloaded.  \n",
            "Done. 0:0:1.1\n",
            "Minifying 4 /content/nerf-wandb/artifacts/data-dataset:v8\n",
            "mogrify -resize 25.0% -format png *.jpg\n",
            "Removed duplicates\n",
            "Done\n",
            "Loaded image data (480, 270, 3, 100) [480.         270.         448.51412035]\n",
            "Loaded /content/nerf-wandb/artifacts/data-dataset:v8 2.1862978521217573 21.514601909254363\n",
            "Data:\n",
            "(100, 3, 5) (100, 480, 270, 3) (100, 2)\n",
            "HOLDOUT view is 53\n",
            "Loaded llff (100, 480, 270, 3) (120, 3, 5) [480.      270.      448.51413] /content/nerf-wandb/artifacts/data-dataset:v8\n",
            "Auto LLFF holdout, 8\n",
            "DEFINING BOUNDS\n",
            "2024-03-11 00:44:31.157111: I external/local_xla/xla/stream_executor/cuda/cuda_executor.cc:901] successful NUMA node read from SysFS had negative value (-1), but there must be at least one NUMA node, so returning NUMA node zero. See more at https://github.com/torvalds/linux/blob/v6.0/Documentation/ABI/testing/sysfs-bus-pci#L344-L355\n",
            "2024-03-11 00:44:31.214474: I external/local_xla/xla/stream_executor/cuda/cuda_executor.cc:901] successful NUMA node read from SysFS had negative value (-1), but there must be at least one NUMA node, so returning NUMA node zero. See more at https://github.com/torvalds/linux/blob/v6.0/Documentation/ABI/testing/sysfs-bus-pci#L344-L355\n",
            "2024-03-11 00:44:31.214751: I external/local_xla/xla/stream_executor/cuda/cuda_executor.cc:901] successful NUMA node read from SysFS had negative value (-1), but there must be at least one NUMA node, so returning NUMA node zero. See more at https://github.com/torvalds/linux/blob/v6.0/Documentation/ABI/testing/sysfs-bus-pci#L344-L355\n",
            "2024-03-11 00:44:31.215486: I external/local_xla/xla/stream_executor/cuda/cuda_executor.cc:901] successful NUMA node read from SysFS had negative value (-1), but there must be at least one NUMA node, so returning NUMA node zero. See more at https://github.com/torvalds/linux/blob/v6.0/Documentation/ABI/testing/sysfs-bus-pci#L344-L355\n",
            "2024-03-11 00:44:31.215720: I external/local_xla/xla/stream_executor/cuda/cuda_executor.cc:901] successful NUMA node read from SysFS had negative value (-1), but there must be at least one NUMA node, so returning NUMA node zero. See more at https://github.com/torvalds/linux/blob/v6.0/Documentation/ABI/testing/sysfs-bus-pci#L344-L355\n",
            "2024-03-11 00:44:31.215901: I external/local_xla/xla/stream_executor/cuda/cuda_executor.cc:901] successful NUMA node read from SysFS had negative value (-1), but there must be at least one NUMA node, so returning NUMA node zero. See more at https://github.com/torvalds/linux/blob/v6.0/Documentation/ABI/testing/sysfs-bus-pci#L344-L355\n",
            "2024-03-11 00:44:31.303150: I external/local_xla/xla/stream_executor/cuda/cuda_executor.cc:901] successful NUMA node read from SysFS had negative value (-1), but there must be at least one NUMA node, so returning NUMA node zero. See more at https://github.com/torvalds/linux/blob/v6.0/Documentation/ABI/testing/sysfs-bus-pci#L344-L355\n",
            "2024-03-11 00:44:31.303443: I external/local_xla/xla/stream_executor/cuda/cuda_executor.cc:901] successful NUMA node read from SysFS had negative value (-1), but there must be at least one NUMA node, so returning NUMA node zero. See more at https://github.com/torvalds/linux/blob/v6.0/Documentation/ABI/testing/sysfs-bus-pci#L344-L355\n",
            "2024-03-11 00:44:31.303584: W tensorflow/core/common_runtime/gpu/gpu_bfc_allocator.cc:47] Overriding orig_value setting because the TF_FORCE_GPU_ALLOW_GROWTH environment variable is set. Original config value was 0.\n",
            "2024-03-11 00:44:31.303671: I external/local_xla/xla/stream_executor/cuda/cuda_executor.cc:901] successful NUMA node read from SysFS had negative value (-1), but there must be at least one NUMA node, so returning NUMA node zero. See more at https://github.com/torvalds/linux/blob/v6.0/Documentation/ABI/testing/sysfs-bus-pci#L344-L355\n",
            "2024-03-11 00:44:31.303816: I tensorflow/core/common_runtime/gpu/gpu_device.cc:1929] Created device /job:localhost/replica:0/task:0/device:GPU:0 with 13949 MB memory:  -> device: 0, name: Tesla T4, pci bus id: 0000:00:04.0, compute capability: 7.5\n",
            "NEAR FAR tf.Tensor(0.33101708, shape=(), dtype=float32) tf.Tensor(3.619361, shape=(), dtype=float32)\n",
            "TRAIN views are [ 1  2  3  4  5  6  7  9 10 11 12 13 14 15 17 18 19 20 21 22 23 25 26 27\n",
            " 28 29 30 31 33 34 35 36 37 38 39 41 42 43 44 45 46 47 49 50 51 52 53 54\n",
            " 55 57 58 59 60 61 62 63 65 66 67 68 69 70 71 73 74 75 76 77 78 79 81 82\n",
            " 83 84 85 86 87 89 90 91 92 93 94 95 97 98 99]\n",
            "TEST views are [ 0  8 16 24 32 40 48 56 64 72 80 88 96]\n",
            "VAL views are [ 0  8 16 24 32 40 48 56 64 72 80 88 96]\n",
            "\u001b[34m\u001b[1mwandb\u001b[0m:                                                                                \n",
            "\u001b[34m\u001b[1mwandb\u001b[0m: 🚀 View run \u001b[33mhyundong360_50_4_downsampled_240311_000757\u001b[0m at: \u001b[34m\u001b[4mhttps://wandb.ai/youngbi2021/fire-youngbi/runs/uj0rowsi\u001b[0m\n",
            "\u001b[34m\u001b[1mwandb\u001b[0m: ️⚡ View job at \u001b[34m\u001b[4mhttps://wandb.ai/youngbi2021/fire-youngbi/jobs/QXJ0aWZhY3RDb2xsZWN0aW9uOjE0NzUxNDE0MQ==/version_details/v2\u001b[0m\n",
            "\u001b[34m\u001b[1mwandb\u001b[0m: Synced 5 W&B file(s), 0 media file(s), 0 artifact file(s) and 0 other file(s)\n",
            "\u001b[34m\u001b[1mwandb\u001b[0m: Find logs at: \u001b[35m\u001b[1m./wandb/run-20240311_004410-uj0rowsi/logs\u001b[0m\n",
            "\u001b[34m\u001b[1mwandb\u001b[0m: Tracking run with wandb version 0.16.4\n",
            "\u001b[34m\u001b[1mwandb\u001b[0m: Run data is saved locally in \u001b[35m\u001b[1m/content/nerf-wandb/wandb/run-20240311_004443-lxux53uo\u001b[0m\n",
            "\u001b[34m\u001b[1mwandb\u001b[0m: Run \u001b[1m`wandb offline`\u001b[0m to turn off syncing.\n",
            "\u001b[34m\u001b[1mwandb\u001b[0m: Syncing run \u001b[33mhyundong360_50_4_downsampled_240311_000757\u001b[0m\n",
            "\u001b[34m\u001b[1mwandb\u001b[0m: ⭐️ View project at \u001b[34m\u001b[4mhttps://wandb.ai/youngbi2021/fire-youngbi\u001b[0m\n",
            "\u001b[34m\u001b[1mwandb\u001b[0m: 🚀 View run at \u001b[34m\u001b[4mhttps://wandb.ai/youngbi2021/fire-youngbi/runs/lxux53uo\u001b[0m\n",
            "MODEL 63 27 <class 'int'> <class 'int'> True\n",
            "(None, 90) (None, 63) (None, 27)\n",
            "MODEL 63 27 <class 'int'> <class 'int'> True\n",
            "(None, 90) (None, 63) (None, 27)\n",
            "Not ndc!\n",
            "Found ckpts []\n",
            "get rays\n",
            "done, concats\n",
            "shuffle rays\n",
            "done\n",
            "Begin\n",
            "2024-03-11 00:45:15.525002: I external/local_xla/xla/service/service.cc:168] XLA service 0x5cff0ccd4b00 initialized for platform CUDA (this does not guarantee that XLA will be used). Devices:\n",
            "2024-03-11 00:45:15.525049: I external/local_xla/xla/service/service.cc:176]   StreamExecutor device (0): Tesla T4, Compute Capability 7.5\n",
            "2024-03-11 00:45:15.530544: I tensorflow/compiler/mlir/tensorflow/utils/dump_mlir_util.cc:269] disabling MLIR crash reproducer, set env var `MLIR_CRASH_REPRODUCER_DIRECTORY` to enable.\n",
            "2024-03-11 00:45:15.547396: I external/local_xla/xla/stream_executor/cuda/cuda_dnn.cc:454] Loaded cuDNN version 8906\n",
            "WARNING: All log messages before absl::InitializeLog() is called are written to STDERR\n",
            "I0000 00:00:1710117915.732904   18897 device_compiler.h:186] Compiled cluster using XLA!  This line is logged at most once for the lifetime of the process.\n",
            "WARNING:tensorflow:5 out of the last 5 calls to <function _BaseOptimizer._update_step_xla at 0x7ed1cdf313f0> triggered tf.function retracing. Tracing is expensive and the excessive number of tracings could be due to (1) creating @tf.function repeatedly in a loop, (2) passing tensors with different shapes, (3) passing Python objects instead of tensors. For (1), please define your @tf.function outside of the loop. For (2), @tf.function has reduce_retracing=True option that can avoid unnecessary retracing. For (3), please refer to https://www.tensorflow.org/guide/function#controlling_retracing and https://www.tensorflow.org/api_docs/python/tf/function for  more details.\n",
            "WARNING:tensorflow:6 out of the last 6 calls to <function _BaseOptimizer._update_step_xla at 0x7ed1cdf313f0> triggered tf.function retracing. Tracing is expensive and the excessive number of tracings could be due to (1) creating @tf.function repeatedly in a loop, (2) passing tensors with different shapes, (3) passing Python objects instead of tensors. For (1), please define your @tf.function outside of the loop. For (2), @tf.function has reduce_retracing=True option that can avoid unnecessary retracing. For (3), please refer to https://www.tensorflow.org/guide/function#controlling_retracing and https://www.tensorflow.org/api_docs/python/tf/function for  more details.\n",
            "hyundong360_50_4_downsampled_240311_000757 0 9.899099 0.17101909 0\n",
            "iter time 10.59822\n",
            "2024-03-11 00:45:23.647105: W external/local_tsl/tsl/framework/cpu_allocator_impl.cc:83] Allocation of 377487360 exceeds 10% of free system memory.\n",
            "hyundong360_50_4_downsampled_240311_000757 1 11.890679 0.10590488 1\n",
            "iter time 0.81570\n",
            "hyundong360_50_4_downsampled_240311_000757 2 13.9023285 0.06797514 2\n",
            "iter time 0.77341\n",
            "hyundong360_50_4_downsampled_240311_000757 3 15.815425 0.048021596 3\n",
            "iter time 0.78317\n",
            "hyundong360_50_4_downsampled_240311_000757 4 16.69197 0.045297854 4\n",
            "iter time 0.77705\n",
            "hyundong360_50_4_downsampled_240311_000757 5 15.940011 0.053948082 5\n",
            "iter time 0.78348\n",
            "hyundong360_50_4_downsampled_240311_000757 6 15.830911 0.052297827 6\n",
            "iter time 0.78441\n",
            "hyundong360_50_4_downsampled_240311_000757 7 15.34523 0.056803305 7\n",
            "iter time 0.78563\n",
            "hyundong360_50_4_downsampled_240311_000757 8 15.678947 0.05198878 8\n",
            "iter time 0.78900\n",
            "hyundong360_50_4_downsampled_240311_000757 9 15.939533 0.049340643 9\n",
            "iter time 0.90765\n",
            "hyundong360_50_4_downsampled_240311_000757 100 18.927916 0.023751587 100\n",
            "iter time 1.27057\n",
            "2024-03-11 00:47:24.319702: W external/local_tsl/tsl/framework/cpu_allocator_impl.cc:83] Allocation of 377487360 exceeds 10% of free system memory.\n",
            "hyundong360_50_4_downsampled_240311_000757 200 20.268326 0.01778653 200\n",
            "iter time 1.02357\n",
            "2024-03-11 00:49:08.460695: W external/local_tsl/tsl/framework/cpu_allocator_impl.cc:83] Allocation of 377487360 exceeds 10% of free system memory.\n",
            "hyundong360_50_4_downsampled_240311_000757 300 21.487774 0.0138984695 300\n",
            "iter time 0.97689\n",
            "2024-03-11 00:50:52.737208: W external/local_tsl/tsl/framework/cpu_allocator_impl.cc:83] Allocation of 377487360 exceeds 10% of free system memory.\n",
            "hyundong360_50_4_downsampled_240311_000757 400 21.875772 0.012493244 400\n",
            "iter time 0.98214\n",
            "2024-03-11 00:52:37.124299: W external/local_tsl/tsl/framework/cpu_allocator_impl.cc:83] Allocation of 377487360 exceeds 10% of free system memory.\n",
            "hyundong360_50_4_downsampled_240311_000757 500 22.000486 0.012320761 500\n",
            "iter time 1.12944\n",
            "hyundong360_50_4_downsampled_240311_000757 600 22.316689 0.011616185 600\n",
            "iter time 0.99603\n",
            "hyundong360_50_4_downsampled_240311_000757 700 23.04227 0.009626469 700\n",
            "iter time 0.97877\n",
            "hyundong360_50_4_downsampled_240311_000757 800 23.263474 0.009490616 800\n",
            "iter time 1.01851\n",
            "hyundong360_50_4_downsampled_240311_000757 900 23.027542 0.0101111615 900\n",
            "iter time 1.12395\n",
            "hyundong360_50_4_downsampled_240311_000757 1000 22.924648 0.01025177 1000\n",
            "iter time 0.99581\n",
            "hyundong360_50_4_downsampled_240311_000757 1100 23.87681 0.008367719 1100\n",
            "iter time 0.99407\n",
            "hyundong360_50_4_downsampled_240311_000757 1200 23.566885 0.008771388 1200\n",
            "iter time 0.98336\n",
            "hyundong360_50_4_downsampled_240311_000757 1300 23.965687 0.008447904 1300\n",
            "iter time 0.98430\n",
            "hyundong360_50_4_downsampled_240311_000757 1400 23.79188 0.008255577 1400\n",
            "iter time 0.98104\n",
            "hyundong360_50_4_downsampled_240311_000757 1500 23.753729 0.008571215 1500\n",
            "iter time 0.99486\n",
            "hyundong360_50_4_downsampled_240311_000757 1600 23.944933 0.00810981 1600\n",
            "iter time 1.19006\n",
            "hyundong360_50_4_downsampled_240311_000757 1700 24.33277 0.0076795365 1700\n",
            "iter time 0.96954\n",
            "hyundong360_50_4_downsampled_240311_000757 1800 23.62142 0.008853819 1800\n",
            "iter time 0.97315\n",
            "hyundong360_50_4_downsampled_240311_000757 1900 23.895811 0.008273247 1900\n",
            "iter time 0.99578\n",
            "hyundong360_50_4_downsampled_240311_000757 2000 24.428242 0.0075150738 2000\n",
            "iter time 1.00797\n",
            "hyundong360_50_4_downsampled_240311_000757 2100 24.697872 0.0071348017 2100\n",
            "iter time 0.98659\n",
            "hyundong360_50_4_downsampled_240311_000757 2200 24.131145 0.007713517 2200\n",
            "iter time 0.97755\n",
            "hyundong360_50_4_downsampled_240311_000757 2300 24.259018 0.007848828 2300\n",
            "iter time 1.19747\n",
            "hyundong360_50_4_downsampled_240311_000757 2400 23.779415 0.008825425 2400\n",
            "iter time 0.96623\n",
            "hyundong360_50_4_downsampled_240311_000757 2500 24.482752 0.0072304523 2500\n",
            "iter time 0.98697\n",
            "hyundong360_50_4_downsampled_240311_000757 2600 24.76819 0.0071472195 2600\n",
            "iter time 0.97487\n",
            "hyundong360_50_4_downsampled_240311_000757 2700 24.845907 0.0066961953 2700\n",
            "iter time 1.11680\n",
            "hyundong360_50_4_downsampled_240311_000757 2800 24.059095 0.008247027 2800\n",
            "iter time 1.10225\n",
            "hyundong360_50_4_downsampled_240311_000757 2900 24.617554 0.00706784 2900\n",
            "iter time 0.97300\n"
          ]
        }
      ],
      "source": [
        "!python run_nerf.py \\\n",
        "    --wandbproject {'fire-youngbi'} \\\n",
        "    --wandbentity {'youngbi2021'} \\\n",
        "    --maxiter {max_iter} \\\n",
        "    --datadir /content/drive/MyDrive/fire/data \\\n",
        "    --basedir /content/drive/MyDrive/fire/data/logs \\\n",
        "    --dataset_type llff \\\n",
        "    --factor {downsample_factor} \\\n",
        "    --netdepth {netdepth} \\\n",
        "    --netwidth {netwidth} \\\n",
        "    --netdepth_fine {netdepth} \\\n",
        "    --netwidth_fine {netwidth} \\\n",
        "    --chunk {rendering_speed} \\\n",
        "    --netchunk {n_points_per_ray} \\\n",
        "    --lrate {learning_rate} \\\n",
        "    --i_video {max_iter // video_saving_cnt} \\\n",
        "    --expname {experiment_name} \\\n",
        "    --N_samples {n_samples} \\\n",
        "    --N_importance {n_importance} \\\n",
        "    --random_seed {random_seed} \\\n",
        "    --raw_noise_std 1.0 \\\n",
        "    --use_viewdirs \\\n",
        "    --no_ndc \\\n",
        "    --spherify \\\n",
        "    --lindisp"
      ]
    },
    {
      "cell_type": "code",
      "source": [],
      "metadata": {
        "id": "DW-IxcV24qaw"
      },
      "execution_count": null,
      "outputs": []
    }
  ],
  "metadata": {
    "accelerator": "GPU",
    "colab": {
      "provenance": [],
      "gpuType": "T4",
      "include_colab_link": true
    },
    "kernelspec": {
      "display_name": "Python 3",
      "name": "python3"
    },
    "language_info": {
      "name": "python",
      "version": "3.9.1"
    },
    "vscode": {
      "interpreter": {
        "hash": "aee8b7b246df8f9039afb4144a1f6fd8d2ca17a180786b69acc140d282b71a49"
      }
    },
    "widgets": {
      "application/vnd.jupyter.widget-state+json": {
        "570362b4ac314e2ea6f7e0776514d049": {
          "model_module": "@jupyter-widgets/controls",
          "model_name": "VBoxModel",
          "model_module_version": "1.5.0",
          "state": {
            "_dom_classes": [],
            "_model_module": "@jupyter-widgets/controls",
            "_model_module_version": "1.5.0",
            "_model_name": "VBoxModel",
            "_view_count": null,
            "_view_module": "@jupyter-widgets/controls",
            "_view_module_version": "1.5.0",
            "_view_name": "VBoxView",
            "box_style": "",
            "children": [
              "IPY_MODEL_98ac4c1db100473bb008daaa5deddc0d",
              "IPY_MODEL_4b1a0ecd773f4fa8949e427394ea320b"
            ],
            "layout": "IPY_MODEL_3e64173a2b494f21b4747de7b357c12f"
          }
        },
        "98ac4c1db100473bb008daaa5deddc0d": {
          "model_module": "@jupyter-widgets/controls",
          "model_name": "LabelModel",
          "model_module_version": "1.5.0",
          "state": {
            "_dom_classes": [],
            "_model_module": "@jupyter-widgets/controls",
            "_model_module_version": "1.5.0",
            "_model_name": "LabelModel",
            "_view_count": null,
            "_view_module": "@jupyter-widgets/controls",
            "_view_module_version": "1.5.0",
            "_view_name": "LabelView",
            "description": "",
            "description_tooltip": null,
            "layout": "IPY_MODEL_51a83061ad4c4e8f9fda472c9c3155eb",
            "placeholder": "​",
            "style": "IPY_MODEL_e7e8b8d8a9354b1785a7583baa221b5a",
            "value": "Waiting for wandb.init()...\r"
          }
        },
        "4b1a0ecd773f4fa8949e427394ea320b": {
          "model_module": "@jupyter-widgets/controls",
          "model_name": "FloatProgressModel",
          "model_module_version": "1.5.0",
          "state": {
            "_dom_classes": [],
            "_model_module": "@jupyter-widgets/controls",
            "_model_module_version": "1.5.0",
            "_model_name": "FloatProgressModel",
            "_view_count": null,
            "_view_module": "@jupyter-widgets/controls",
            "_view_module_version": "1.5.0",
            "_view_name": "ProgressView",
            "bar_style": "",
            "description": "",
            "description_tooltip": null,
            "layout": "IPY_MODEL_25212d61a83945a5a65643c12204f47a",
            "max": 1,
            "min": 0,
            "orientation": "horizontal",
            "style": "IPY_MODEL_4adbf02c3a1443569d7a1a18e67735e0",
            "value": 1
          }
        },
        "3e64173a2b494f21b4747de7b357c12f": {
          "model_module": "@jupyter-widgets/base",
          "model_name": "LayoutModel",
          "model_module_version": "1.2.0",
          "state": {
            "_model_module": "@jupyter-widgets/base",
            "_model_module_version": "1.2.0",
            "_model_name": "LayoutModel",
            "_view_count": null,
            "_view_module": "@jupyter-widgets/base",
            "_view_module_version": "1.2.0",
            "_view_name": "LayoutView",
            "align_content": null,
            "align_items": null,
            "align_self": null,
            "border": null,
            "bottom": null,
            "display": null,
            "flex": null,
            "flex_flow": null,
            "grid_area": null,
            "grid_auto_columns": null,
            "grid_auto_flow": null,
            "grid_auto_rows": null,
            "grid_column": null,
            "grid_gap": null,
            "grid_row": null,
            "grid_template_areas": null,
            "grid_template_columns": null,
            "grid_template_rows": null,
            "height": null,
            "justify_content": null,
            "justify_items": null,
            "left": null,
            "margin": null,
            "max_height": null,
            "max_width": null,
            "min_height": null,
            "min_width": null,
            "object_fit": null,
            "object_position": null,
            "order": null,
            "overflow": null,
            "overflow_x": null,
            "overflow_y": null,
            "padding": null,
            "right": null,
            "top": null,
            "visibility": null,
            "width": null
          }
        },
        "51a83061ad4c4e8f9fda472c9c3155eb": {
          "model_module": "@jupyter-widgets/base",
          "model_name": "LayoutModel",
          "model_module_version": "1.2.0",
          "state": {
            "_model_module": "@jupyter-widgets/base",
            "_model_module_version": "1.2.0",
            "_model_name": "LayoutModel",
            "_view_count": null,
            "_view_module": "@jupyter-widgets/base",
            "_view_module_version": "1.2.0",
            "_view_name": "LayoutView",
            "align_content": null,
            "align_items": null,
            "align_self": null,
            "border": null,
            "bottom": null,
            "display": null,
            "flex": null,
            "flex_flow": null,
            "grid_area": null,
            "grid_auto_columns": null,
            "grid_auto_flow": null,
            "grid_auto_rows": null,
            "grid_column": null,
            "grid_gap": null,
            "grid_row": null,
            "grid_template_areas": null,
            "grid_template_columns": null,
            "grid_template_rows": null,
            "height": null,
            "justify_content": null,
            "justify_items": null,
            "left": null,
            "margin": null,
            "max_height": null,
            "max_width": null,
            "min_height": null,
            "min_width": null,
            "object_fit": null,
            "object_position": null,
            "order": null,
            "overflow": null,
            "overflow_x": null,
            "overflow_y": null,
            "padding": null,
            "right": null,
            "top": null,
            "visibility": null,
            "width": null
          }
        },
        "e7e8b8d8a9354b1785a7583baa221b5a": {
          "model_module": "@jupyter-widgets/controls",
          "model_name": "DescriptionStyleModel",
          "model_module_version": "1.5.0",
          "state": {
            "_model_module": "@jupyter-widgets/controls",
            "_model_module_version": "1.5.0",
            "_model_name": "DescriptionStyleModel",
            "_view_count": null,
            "_view_module": "@jupyter-widgets/base",
            "_view_module_version": "1.2.0",
            "_view_name": "StyleView",
            "description_width": ""
          }
        },
        "25212d61a83945a5a65643c12204f47a": {
          "model_module": "@jupyter-widgets/base",
          "model_name": "LayoutModel",
          "model_module_version": "1.2.0",
          "state": {
            "_model_module": "@jupyter-widgets/base",
            "_model_module_version": "1.2.0",
            "_model_name": "LayoutModel",
            "_view_count": null,
            "_view_module": "@jupyter-widgets/base",
            "_view_module_version": "1.2.0",
            "_view_name": "LayoutView",
            "align_content": null,
            "align_items": null,
            "align_self": null,
            "border": null,
            "bottom": null,
            "display": null,
            "flex": null,
            "flex_flow": null,
            "grid_area": null,
            "grid_auto_columns": null,
            "grid_auto_flow": null,
            "grid_auto_rows": null,
            "grid_column": null,
            "grid_gap": null,
            "grid_row": null,
            "grid_template_areas": null,
            "grid_template_columns": null,
            "grid_template_rows": null,
            "height": null,
            "justify_content": null,
            "justify_items": null,
            "left": null,
            "margin": null,
            "max_height": null,
            "max_width": null,
            "min_height": null,
            "min_width": null,
            "object_fit": null,
            "object_position": null,
            "order": null,
            "overflow": null,
            "overflow_x": null,
            "overflow_y": null,
            "padding": null,
            "right": null,
            "top": null,
            "visibility": null,
            "width": null
          }
        },
        "4adbf02c3a1443569d7a1a18e67735e0": {
          "model_module": "@jupyter-widgets/controls",
          "model_name": "ProgressStyleModel",
          "model_module_version": "1.5.0",
          "state": {
            "_model_module": "@jupyter-widgets/controls",
            "_model_module_version": "1.5.0",
            "_model_name": "ProgressStyleModel",
            "_view_count": null,
            "_view_module": "@jupyter-widgets/base",
            "_view_module_version": "1.2.0",
            "_view_name": "StyleView",
            "bar_color": null,
            "description_width": ""
          }
        }
      }
    }
  },
  "nbformat": 4,
  "nbformat_minor": 0
}